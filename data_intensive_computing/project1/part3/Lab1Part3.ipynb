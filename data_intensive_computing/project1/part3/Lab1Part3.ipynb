{
 "cells": [
  {
   "cell_type": "markdown",
   "metadata": {},
   "source": [
    "# Data Collection"
   ]
  },
  {
   "cell_type": "code",
   "execution_count": null,
   "metadata": {},
   "outputs": [],
   "source": [
    "install.packages(c(\"rtweet\", \"RCurl\", \"tidyverse\", \"ggmap\", \"ggplot2\", \"maps\", \"mapdata\", \"plyr\", \"reshape2\", \"usmap\", \"sp\"))"
   ]
  },
  {
   "cell_type": "code",
   "execution_count": 3,
   "metadata": {},
   "outputs": [],
   "source": [
    "library(rtweet)\n",
    "library(RCurl)\n",
    "library(tidyverse)\n",
    "library(ggmap)\n",
    "library(ggplot2)\n",
    "library(maps)\n",
    "library(mapdata)\n",
    "library(plyr)\n",
    "library(reshape2)\n",
    "library(usmap)"
   ]
  },
  {
   "cell_type": "code",
   "execution_count": 1,
   "metadata": {},
   "outputs": [
    {
     "ename": "ERROR",
     "evalue": "Error in create_token(app = \"<app name>\", consumer_key = consumer_key, : could not find function \"create_token\"\n",
     "output_type": "error",
     "traceback": [
      "Error in create_token(app = \"<app name>\", consumer_key = consumer_key, : could not find function \"create_token\"\nTraceback:\n"
     ]
    }
   ],
   "source": [
    "#Query and store data as CSV\n",
    "consumer_key<-'<Twitter API key>'\n",
    "consumer_secret<-'<Twitter API key>'\n",
    "access_token<-'<Twitter API key>'\n",
    "access_secret<-'<Twitter API key>'\n",
    "create_token(app = \"<app name>\",consumer_key=consumer_key,consumer_secret=consumer_secret,access_token =  access_token,access_secret =  access_secret)\n",
    "tweets<-search_tweets(\"flu OR influenza\",n=20000,retryonratelimit=TRUE, type = \"recent\", include_rts = F, until = \"2019-03-07\")\n",
    "write_as_csv(tweets, \"Raw_Tweets.csv\", prepend_ids = F, na = \"\", fileEncoding = \"UTF-8\")"
   ]
  },
  {
   "cell_type": "code",
   "execution_count": 6,
   "metadata": {},
   "outputs": [
    {
     "name": "stderr",
     "output_type": "stream",
     "text": [
      "Warning message in file(file, \"rt\"):\n",
      "\"cannot open file 'Raw_Tweets.csv': No such file or directory\""
     ]
    },
    {
     "ename": "ERROR",
     "evalue": "Error in file(file, \"rt\"): cannot open the connection\n",
     "output_type": "error",
     "traceback": [
      "Error in file(file, \"rt\"): cannot open the connection\nTraceback:\n",
      "1. read.csv(\"Raw_Tweets.csv\")",
      "2. read.table(file = file, header = header, sep = sep, quote = quote, \n .     dec = dec, fill = fill, comment.char = comment.char, ...)",
      "3. file(file, \"rt\")"
     ]
    }
   ],
   "source": [
    "#obtain geocode from the data\n",
    "data= read.csv(\"Raw_Tweets.csv\")\n",
    "nrow(data)\n",
    "print(length(unique(data$status_id)))\n",
    "data<-data[!duplicated(data$status_id),]\n",
    "print(length(unique(data$status_id)))\n",
    "nrow(data)\n",
    "data<-lat_lng(data)\n",
    "data$location\n",
    "data_loc<-geocode(as.character(data$location),output = \"latlona\")\n",
    "write.csv(data_loc, \"Final_Tweets.csv\")\n",
    "states_abb<-as.data.frame(state.abb)\n",
    "data_loc$address[2]\n",
    "for(i in 1:nrow(states_abb))\n",
    "{\n",
    "  state_name<-tolower(states_abb$state.abb[i])\n",
    "  if(grepl(paste(\"^\",state_name,\"$\",sep =\"\" ),data_loc$address[1])==T){\n",
    "    state<-data.frame(regex) \n",
    "  } else if(grepl(paste(\" \",state_name,\",\",sep =\"\" ),data_loc$address[1])==T){\n",
    "    regex<-paste(\" \",state_name,\",\",sep =\"\" )\n",
    "    state<-data.frame(substr(regex,1,nchar(regex)-1))\n",
    "    colnames(state)[1]<-\"regex\"\n",
    "  }  else if(grepl(paste(\" \",state_name,\" \",sep =\"\" ),data_loc$address[1])==T){\n",
    "    regex<-paste(\" \",state_name,\",\",sep =\"\" )\n",
    "    state<-data.frame(substr(regex,2,nchar(regex)-1))\n",
    "    colnames(state)[1]<-\"regex\"\n",
    "  } else if(grepl(paste(\",\",state_name,\" \",sep =\"\" ),data_loc$address[1])==T){\n",
    "    regex<-paste(\" \",state_name,\",\",sep =\"\" )\n",
    "    state<-data.frame(substr(regex,2,nchar(regex)-1))\n",
    "    colnames(state)[1]<-\"regex\"\n",
    "  } else if(grepl(paste(\" \",state_name,\",\",sep =\"\" ),data_loc$address[1])==T){\n",
    "    regex<-paste(\" \",state_name,\",\",sep =\"\" )\n",
    "    state<-data.frame(substr(regex,2,nchar(regex)-1))\n",
    "    colnames(state)[1]<-\"regex\"\n",
    "  }\n",
    "}\n",
    "state\n",
    "for(i in 1:nrow(states_abb))\n",
    "{\n",
    "  state_name<-tolower(states_abb$state.abb[i])\n",
    "  for(j in 2:nrow(data_loc)){\n",
    "    state_name<-tolower(states_abb$state.abb[i])\n",
    "    if(grepl(paste(\"^\",state_name,\"$\",sep =\"\" ),data_loc$address[j])==T){\n",
    "      temp<-data.frame(regex) \n",
    "      next\n",
    "    } else if(grepl(paste(\" \",state_name,\",\",sep =\"\" ),data_loc$address[j])==T){\n",
    "      regex<-paste(\" \",state_name,\",\",sep =\"\" )\n",
    "      temp<-data.frame(substr(regex,1,nchar(regex)-1))\n",
    "      colnames(temp)[1]<-\"regex\"\n",
    "      state<-rbind(state,temp)\n",
    "      next\n",
    "    } else if(grepl(paste(\" \",state_name,\" \",sep =\"\" ),data_loc$address[j])==T){\n",
    "      regex<-paste(\" \",state_name,\",\",sep =\"\" )\n",
    "      temp<-data.frame(substr(regex,2,nchar(regex)-1))\n",
    "      colnames(temp)[1]<-\"regex\"\n",
    "      state<-rbind(state,temp)\n",
    "      next\n",
    "    } else if(grepl(paste(\",\",state_name,\" \",sep =\"\" ),data_loc$address[j])==T){\n",
    "      regex<-paste(\" \",state_name,\",\",sep =\"\" )\n",
    "      temp<-data.frame(substr(regex,2,nchar(regex)-1))\n",
    "      colnames(temp)[1]<-\"regex\"\n",
    "      state<-rbind(state,temp)\n",
    "      next\n",
    "    } else if(grepl(paste(\" \",state_name,\",\",sep =\"\" ),data_loc$address[j])==T){\n",
    "      regex<-paste(\" \",state_name,\",\",sep =\"\" )\n",
    "      temp<-data.frame(substr(regex,2,nchar(regex)-1))\n",
    "      colnames(temp)[1]<-\"regex\"\n",
    "      state<-rbind(state,temp)\n",
    "      next\n",
    "    }\n",
    "  }\n",
    "}\n",
    "for(i in 1:nrow(states_abb)){\n",
    "  state_name<-states_abb$state.abb[i]\n",
    "  if(grepl(state_name,state$regex[1],ignore.case = T)==T){\n",
    "    print(state_name)\n",
    "    final_state<-data.frame(state.name[match(state_name,state.abb)])\n",
    "    colnames(final_state)[1]<-\"STATE_NAME\"\n",
    "  }\n",
    "}\n",
    "for(i in 1:nrow(states_abb)){\n",
    "  state_name<-states_abb$state.abb[i]\n",
    "  for(j in 2:nrow(state)){\n",
    "    if(grepl(state_name,state$regex[j],ignore.case = T)==T){\n",
    "      temp<-data.frame(state.name[match(state_name,state.abb)])\n",
    "      colnames(temp)[1]<-\"STATE_NAME\"\n",
    "      final_state<-rbind(final_state,temp)\n",
    "    }\n",
    "  }\n",
    "}\n",
    "final_state\n",
    "count_df<-plyr::count(final_state,\"STATE_NAME\")"
   ]
  },
  {
   "cell_type": "code",
   "execution_count": 7,
   "metadata": {},
   "outputs": [
    {
     "data": {},
     "metadata": {},
     "output_type": "display_data"
    },
    {
     "data": {
      "image/png": "[encoded data removed]",
      "text/plain": [
       "plot without title"
      ]
     },
     "metadata": {},
     "output_type": "display_data"
    }
   ],
   "source": [
    "data <- read.csv(\"C:/Users/ankim/OneDrive/Documents/data/Total_count.csv\")\n",
    "      count_df <- subset(data, select = c(\"state\", \"freq\"))\n",
    "      count_df$freq<-as.numeric(count_df$freq)\n",
    "      colnames(count_df)[1]<-\"state\"\n",
    "      write.csv(count_df, \"Total_count.csv\")\n",
    "      plot_usmap(data = count_df, values = \"freq\") + \n",
    "        scale_fill_continuous(\n",
    "          low = \"green\", high = \"red\", name = \"Tweet Count\", label = scales::comma\n",
    "        ) + theme(legend.position = \"right\")"
   ]
  },
  {
   "cell_type": "markdown",
   "metadata": {},
   "source": [
    "# Task 4"
   ]
  },
  {
   "cell_type": "markdown",
   "metadata": {},
   "source": [
    "Inference: Twitter data is highly inaccurate for representing disease trends whereas CDC data is highly reliable and it gives correct representation of scenario"
   ]
  },
  {
   "cell_type": "markdown",
   "metadata": {},
   "source": [
    "# Task 5"
   ]
  },
  {
   "cell_type": "markdown",
   "metadata": {},
   "source": [
    "For flu the most data has been collected from NY, California and Texas\n",
    "For influenza the most data has been collected from Texas"
   ]
  },
  {
   "cell_type": "markdown",
   "metadata": {},
   "source": [
    " # Task 6"
   ]
  },
  {
   "cell_type": "markdown",
   "metadata": {},
   "source": [
    "## Shiny App"
   ]
  },
  {
   "cell_type": "code",
   "execution_count": null,
   "metadata": {},
   "outputs": [],
   "source": [
    "#\n",
    "# This is a Shiny web application. You can run the application by clicking\n",
    "# the 'Run App' button above.\n",
    "#\n",
    "# Find out more about building applications with Shiny here:\n",
    "#\n",
    "#    http://shiny.rstudio.com/\n",
    "#\n",
    "\n",
    "library(shiny)\n",
    "library(ggplot2)\n",
    "library(ggmap)\n",
    "library(maptools)\n",
    "library(maps)\n",
    "library(reshape2)\n",
    "library(sp)\n",
    "library(usmap)\n",
    "\n",
    "# Define UI for application that draws a histogram\n",
    "ui <- fluidPage(\n",
    "  \n",
    "   headerPanel(\"Lab1\"),\n",
    "   \n",
    "   titlePanel(\"Lab1 Shiny App\"),\n",
    "   \n",
    "   sidebarPanel(\n",
    "     fileInput(inputId = \"filedata\", label = \"Upload data. Choose csv file\", accept = c(\".csv\")),\n",
    "     selectInput(\"graph\", label = \"Choose:\", choices = c(\"CDC Map\", \"Twitter Map\", \"CDC Map VS Twitter Map\")),\n",
    "     submitButton(\"Update View\")\n",
    "   ),\n",
    "   \n",
    "   mainPanel(\n",
    "     plotOutput(\"plot1\", height = 400, width = 700)\n",
    "     )\n",
    "   \n",
    ")\n",
    "\n",
    "# Define server logic required to draw a histogram\n",
    "server <- function(input, output) {\n",
    "  output$plot1 <- renderPlot({\n",
    "    if (input$graph == \"CDC Map\") {\n",
    "      csv_data <- read.csv(\"C:/Users/ankim/OneDrive/Documents/data/heatmap.csv\", header = T, fileEncoding = \"UTF-8\", sep = \",\", as.is = T, stringsAsFactors = F)\n",
    "      my_data = data.frame(region = tolower(csv_data$STATENAME), level = csv_data$ACTIVITY.LEVEL, stringsAsFactors = F)\n",
    "      my_data[,2] <- substring(my_data[,2], 6, 8)\n",
    "      my_data$level <- (as.numeric(my_data$level) + 10)\n",
    "      head(my_data)\n",
    "      states_map <- map_data(\"state\")\n",
    "      \n",
    "      ggplot(data = my_data, aes(map_id = region)) + \n",
    "        geom_map(aes(fill = factor(as.character(my_data$level))), map = states_map ,colour = \"black\") +\n",
    "        scale_fill_manual(values = c(\"white\",\"green4\", \"green3\", \"green2\",\"green1\", \"greenyellow\",\"yellow\", \"orange\",\"red1\", \"red2\", \"red3\"),labels = c(\"insufficient data\", \"Minimal\", \"Minimal\", \"Minimal\", \"Low\", \"Low\", \"Moderate\", \"Moderate\", \"High\", \"High\", \"High\")) +\n",
    "        theme_classic() +\n",
    "        labs(title = \"Heat Map of USA\", x = \"\", y = \"\") +\n",
    "        expand_limits(x = states_map$long, y = states_map$lat) +\n",
    "        theme(axis.line = element_blank(), axis.text.x = element_blank(), axis.text.y = element_blank(), axis.ticks.x = element_blank(), axis.ticks.y = element_blank())\n",
    "    }\n",
    "    else if (input$graph == \"Twitter Map\") {\n",
    "      data <- read.csv(\"C:/Users/ankim/OneDrive/Documents/data/Total_count.csv\")\n",
    "      count_df <- subset(data, select = c(\"state\", \"freq\"))\n",
    "      count_df$freq<-as.numeric(count_df$freq)\n",
    "      colnames(count_df)[1]<-\"state\"\n",
    "      write.csv(count_df, \"Total_count.csv\")\n",
    "      plot_usmap(data = count_df, values = \"freq\") + \n",
    "        scale_fill_continuous(\n",
    "          low = \"green\", high = \"red\", name = \"Tweet Count\", label = scales::comma\n",
    "        ) + theme(legend.position = \"right\")\n",
    "    }\n",
    "    else if (input$graph == \"CDC Map VS Twitter Map\") {\n",
    "      print(\"Check the other two maps\")\n",
    "    }\n",
    "  })\n",
    "  \n",
    "}\n",
    "\n",
    "# Run the application \n",
    "shinyApp(ui = ui, server = server)"
   ]
  },
  {
   "cell_type": "code",
   "execution_count": null,
   "metadata": {},
   "outputs": [],
   "source": []
  }
 ],
 "metadata": {
  "kernelspec": {
   "display_name": "R",
   "language": "R",
   "name": "ir"
  },
  "language_info": {
   "codemirror_mode": "r",
   "file_extension": ".r",
   "mimetype": "text/x-r-source",
   "name": "R",
   "pygments_lexer": "r",
   "version": "3.5.1"
  }
 },
 "nbformat": 4,
 "nbformat_minor": 2
}
